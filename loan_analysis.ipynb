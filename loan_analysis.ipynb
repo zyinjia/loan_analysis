{
 "cells": [
  {
   "cell_type": "code",
   "execution_count": 1,
   "metadata": {
    "collapsed": true,
    "deletable": true,
    "editable": true
   },
   "outputs": [],
   "source": [
    "%matplotlib inline\n",
    "import matplotlib\n",
    "import seaborn as sns\n",
    "matplotlib.rcParams['savefig.dpi'] = 144\n",
    "import pandas as pd"
   ]
  },
  {
   "cell_type": "markdown",
   "metadata": {
    "deletable": true,
    "editable": true
   },
   "source": [
    "## Initial examination of data"
   ]
  },
  {
   "cell_type": "code",
   "execution_count": 2,
   "metadata": {
    "collapsed": false,
    "deletable": true,
    "editable": true
   },
   "outputs": [
    {
     "data": {
      "text/html": [
       "<div>\n",
       "<style>\n",
       "    .dataframe thead tr:only-child th {\n",
       "        text-align: right;\n",
       "    }\n",
       "\n",
       "    .dataframe thead th {\n",
       "        text-align: left;\n",
       "    }\n",
       "\n",
       "    .dataframe tbody tr th {\n",
       "        vertical-align: top;\n",
       "    }\n",
       "</style>\n",
       "<table border=\"1\" class=\"dataframe\">\n",
       "  <thead>\n",
       "    <tr style=\"text-align: right;\">\n",
       "      <th></th>\n",
       "      <th>member_id</th>\n",
       "      <th>loan_amnt</th>\n",
       "      <th>int_rate</th>\n",
       "      <th>issue_d</th>\n",
       "      <th>loan_status</th>\n",
       "      <th>fico_range_low</th>\n",
       "      <th>fico_range_high</th>\n",
       "      <th>annual_inc</th>\n",
       "      <th>last_pymnt_d</th>\n",
       "    </tr>\n",
       "  </thead>\n",
       "  <tbody>\n",
       "    <tr>\n",
       "      <th>0</th>\n",
       "      <td>35784929</td>\n",
       "      <td>18000</td>\n",
       "      <td>9.17%</td>\n",
       "      <td>Oct 2014</td>\n",
       "      <td>Fully Paid</td>\n",
       "      <td>700</td>\n",
       "      <td>704</td>\n",
       "      <td>150000.0</td>\n",
       "      <td>Oct 2015</td>\n",
       "    </tr>\n",
       "    <tr>\n",
       "      <th>1</th>\n",
       "      <td>35914827</td>\n",
       "      <td>14000</td>\n",
       "      <td>11.67%</td>\n",
       "      <td>Oct 2014</td>\n",
       "      <td>Current</td>\n",
       "      <td>670</td>\n",
       "      <td>674</td>\n",
       "      <td>135000.0</td>\n",
       "      <td>Oct 2015</td>\n",
       "    </tr>\n",
       "    <tr>\n",
       "      <th>2</th>\n",
       "      <td>35985086</td>\n",
       "      <td>8400</td>\n",
       "      <td>9.17%</td>\n",
       "      <td>Oct 2014</td>\n",
       "      <td>Current</td>\n",
       "      <td>665</td>\n",
       "      <td>669</td>\n",
       "      <td>75000.0</td>\n",
       "      <td>Oct 2015</td>\n",
       "    </tr>\n",
       "    <tr>\n",
       "      <th>3</th>\n",
       "      <td>35945193</td>\n",
       "      <td>10000</td>\n",
       "      <td>7.69%</td>\n",
       "      <td>Oct 2014</td>\n",
       "      <td>Current</td>\n",
       "      <td>730</td>\n",
       "      <td>734</td>\n",
       "      <td>94000.0</td>\n",
       "      <td>Oct 2015</td>\n",
       "    </tr>\n",
       "    <tr>\n",
       "      <th>4</th>\n",
       "      <td>35754571</td>\n",
       "      <td>2000</td>\n",
       "      <td>12.99%</td>\n",
       "      <td>Oct 2014</td>\n",
       "      <td>Current</td>\n",
       "      <td>680</td>\n",
       "      <td>684</td>\n",
       "      <td>150000.0</td>\n",
       "      <td>Oct 2015</td>\n",
       "    </tr>\n",
       "  </tbody>\n",
       "</table>\n",
       "</div>"
      ],
      "text/plain": [
       "   member_id  loan_amnt int_rate   issue_d loan_status  fico_range_low  \\\n",
       "0   35784929      18000    9.17%  Oct 2014  Fully Paid             700   \n",
       "1   35914827      14000   11.67%  Oct 2014     Current             670   \n",
       "2   35985086       8400    9.17%  Oct 2014     Current             665   \n",
       "3   35945193      10000    7.69%  Oct 2014     Current             730   \n",
       "4   35754571       2000   12.99%  Oct 2014     Current             680   \n",
       "\n",
       "   fico_range_high  annual_inc last_pymnt_d  \n",
       "0              704    150000.0     Oct 2015  \n",
       "1              674    135000.0     Oct 2015  \n",
       "2              669     75000.0     Oct 2015  \n",
       "3              734     94000.0     Oct 2015  \n",
       "4              684    150000.0     Oct 2015  "
      ]
     },
     "execution_count": 2,
     "metadata": {},
     "output_type": "execute_result"
    }
   ],
   "source": [
    "df = pd.read_csv('loan_data.csv')\n",
    "df.head()"
   ]
  },
  {
   "cell_type": "code",
   "execution_count": 3,
   "metadata": {
    "collapsed": false,
    "deletable": true,
    "editable": true
   },
   "outputs": [
    {
     "name": "stdout",
     "output_type": "stream",
     "text": [
      "(239046, 9)\n"
     ]
    },
    {
     "data": {
      "text/plain": [
       "member_id            int64\n",
       "loan_amnt            int64\n",
       "int_rate            object\n",
       "issue_d             object\n",
       "loan_status         object\n",
       "fico_range_low       int64\n",
       "fico_range_high      int64\n",
       "annual_inc         float64\n",
       "last_pymnt_d        object\n",
       "dtype: object"
      ]
     },
     "execution_count": 3,
     "metadata": {},
     "output_type": "execute_result"
    }
   ],
   "source": [
    "print df.shape\n",
    "df.dtypes"
   ]
  },
  {
   "cell_type": "code",
   "execution_count": 4,
   "metadata": {
    "collapsed": false,
    "deletable": true,
    "editable": true
   },
   "outputs": [
    {
     "data": {
      "text/plain": [
       "member_id             0\n",
       "loan_amnt             0\n",
       "int_rate              0\n",
       "issue_d               0\n",
       "loan_status           0\n",
       "fico_range_low        0\n",
       "fico_range_high       0\n",
       "annual_inc            0\n",
       "last_pymnt_d       1337\n",
       "dtype: int64"
      ]
     },
     "execution_count": 4,
     "metadata": {},
     "output_type": "execute_result"
    }
   ],
   "source": [
    "pd.isnull(df).sum()"
   ]
  },
  {
   "cell_type": "code",
   "execution_count": 5,
   "metadata": {
    "collapsed": false,
    "deletable": true,
    "editable": true
   },
   "outputs": [
    {
     "data": {
      "text/html": [
       "<div>\n",
       "<style>\n",
       "    .dataframe thead tr:only-child th {\n",
       "        text-align: right;\n",
       "    }\n",
       "\n",
       "    .dataframe thead th {\n",
       "        text-align: left;\n",
       "    }\n",
       "\n",
       "    .dataframe tbody tr th {\n",
       "        vertical-align: top;\n",
       "    }\n",
       "</style>\n",
       "<table border=\"1\" class=\"dataframe\">\n",
       "  <thead>\n",
       "    <tr style=\"text-align: right;\">\n",
       "      <th></th>\n",
       "      <th>member_id</th>\n",
       "      <th>loan_amnt</th>\n",
       "      <th>int_rate</th>\n",
       "      <th>issue_d</th>\n",
       "      <th>loan_status</th>\n",
       "      <th>fico_range_low</th>\n",
       "      <th>fico_range_high</th>\n",
       "      <th>annual_inc</th>\n",
       "      <th>last_pymnt_d</th>\n",
       "    </tr>\n",
       "  </thead>\n",
       "  <tbody>\n",
       "    <tr>\n",
       "      <th>0</th>\n",
       "      <td>35784929</td>\n",
       "      <td>18000</td>\n",
       "      <td>9.17</td>\n",
       "      <td>Oct 2014</td>\n",
       "      <td>Fully Paid</td>\n",
       "      <td>700</td>\n",
       "      <td>704</td>\n",
       "      <td>150000.0</td>\n",
       "      <td>Oct 2015</td>\n",
       "    </tr>\n",
       "    <tr>\n",
       "      <th>1</th>\n",
       "      <td>35914827</td>\n",
       "      <td>14000</td>\n",
       "      <td>11.67</td>\n",
       "      <td>Oct 2014</td>\n",
       "      <td>Current</td>\n",
       "      <td>670</td>\n",
       "      <td>674</td>\n",
       "      <td>135000.0</td>\n",
       "      <td>Oct 2015</td>\n",
       "    </tr>\n",
       "    <tr>\n",
       "      <th>2</th>\n",
       "      <td>35985086</td>\n",
       "      <td>8400</td>\n",
       "      <td>9.17</td>\n",
       "      <td>Oct 2014</td>\n",
       "      <td>Current</td>\n",
       "      <td>665</td>\n",
       "      <td>669</td>\n",
       "      <td>75000.0</td>\n",
       "      <td>Oct 2015</td>\n",
       "    </tr>\n",
       "    <tr>\n",
       "      <th>3</th>\n",
       "      <td>35945193</td>\n",
       "      <td>10000</td>\n",
       "      <td>7.69</td>\n",
       "      <td>Oct 2014</td>\n",
       "      <td>Current</td>\n",
       "      <td>730</td>\n",
       "      <td>734</td>\n",
       "      <td>94000.0</td>\n",
       "      <td>Oct 2015</td>\n",
       "    </tr>\n",
       "    <tr>\n",
       "      <th>4</th>\n",
       "      <td>35754571</td>\n",
       "      <td>2000</td>\n",
       "      <td>12.99</td>\n",
       "      <td>Oct 2014</td>\n",
       "      <td>Current</td>\n",
       "      <td>680</td>\n",
       "      <td>684</td>\n",
       "      <td>150000.0</td>\n",
       "      <td>Oct 2015</td>\n",
       "    </tr>\n",
       "  </tbody>\n",
       "</table>\n",
       "</div>"
      ],
      "text/plain": [
       "   member_id  loan_amnt  int_rate   issue_d loan_status  fico_range_low  \\\n",
       "0   35784929      18000      9.17  Oct 2014  Fully Paid             700   \n",
       "1   35914827      14000     11.67  Oct 2014     Current             670   \n",
       "2   35985086       8400      9.17  Oct 2014     Current             665   \n",
       "3   35945193      10000      7.69  Oct 2014     Current             730   \n",
       "4   35754571       2000     12.99  Oct 2014     Current             680   \n",
       "\n",
       "   fico_range_high  annual_inc last_pymnt_d  \n",
       "0              704    150000.0     Oct 2015  \n",
       "1              674    135000.0     Oct 2015  \n",
       "2              669     75000.0     Oct 2015  \n",
       "3              734     94000.0     Oct 2015  \n",
       "4              684    150000.0     Oct 2015  "
      ]
     },
     "execution_count": 5,
     "metadata": {},
     "output_type": "execute_result"
    }
   ],
   "source": [
    "df['int_rate'] = df['int_rate'].str.strip()\n",
    "df['int_rate'] = df['int_rate'].str.strip('%')\n",
    "df['int_rate'] = df['int_rate'].apply(pd.to_numeric)\n",
    "df.head()"
   ]
  },
  {
   "cell_type": "code",
   "execution_count": 6,
   "metadata": {
    "collapsed": true,
    "deletable": true,
    "editable": true
   },
   "outputs": [],
   "source": [
    "df['fico_avg'] = df[['fico_range_low', 'fico_range_high']].mean(axis=1)"
   ]
  },
  {
   "cell_type": "code",
   "execution_count": 7,
   "metadata": {
    "collapsed": false,
    "deletable": true,
    "editable": true
   },
   "outputs": [
    {
     "data": {
      "text/html": [
       "<div>\n",
       "<style>\n",
       "    .dataframe thead tr:only-child th {\n",
       "        text-align: right;\n",
       "    }\n",
       "\n",
       "    .dataframe thead th {\n",
       "        text-align: left;\n",
       "    }\n",
       "\n",
       "    .dataframe tbody tr th {\n",
       "        vertical-align: top;\n",
       "    }\n",
       "</style>\n",
       "<table border=\"1\" class=\"dataframe\">\n",
       "  <thead>\n",
       "    <tr style=\"text-align: right;\">\n",
       "      <th></th>\n",
       "      <th>member_id</th>\n",
       "      <th>loan_amnt</th>\n",
       "      <th>int_rate</th>\n",
       "      <th>issue_d</th>\n",
       "      <th>loan_status</th>\n",
       "      <th>fico_range_low</th>\n",
       "      <th>fico_range_high</th>\n",
       "      <th>annual_inc</th>\n",
       "      <th>last_pymnt_d</th>\n",
       "      <th>fico_avg</th>\n",
       "    </tr>\n",
       "  </thead>\n",
       "  <tbody>\n",
       "    <tr>\n",
       "      <th>0</th>\n",
       "      <td>35784929</td>\n",
       "      <td>18000</td>\n",
       "      <td>9.17</td>\n",
       "      <td>Oct 2014</td>\n",
       "      <td>Fully Paid</td>\n",
       "      <td>700</td>\n",
       "      <td>704</td>\n",
       "      <td>150000.0</td>\n",
       "      <td>Oct 2015</td>\n",
       "      <td>702.0</td>\n",
       "    </tr>\n",
       "    <tr>\n",
       "      <th>1</th>\n",
       "      <td>35914827</td>\n",
       "      <td>14000</td>\n",
       "      <td>11.67</td>\n",
       "      <td>Oct 2014</td>\n",
       "      <td>Current</td>\n",
       "      <td>670</td>\n",
       "      <td>674</td>\n",
       "      <td>135000.0</td>\n",
       "      <td>Oct 2015</td>\n",
       "      <td>672.0</td>\n",
       "    </tr>\n",
       "    <tr>\n",
       "      <th>2</th>\n",
       "      <td>35985086</td>\n",
       "      <td>8400</td>\n",
       "      <td>9.17</td>\n",
       "      <td>Oct 2014</td>\n",
       "      <td>Current</td>\n",
       "      <td>665</td>\n",
       "      <td>669</td>\n",
       "      <td>75000.0</td>\n",
       "      <td>Oct 2015</td>\n",
       "      <td>667.0</td>\n",
       "    </tr>\n",
       "    <tr>\n",
       "      <th>3</th>\n",
       "      <td>35945193</td>\n",
       "      <td>10000</td>\n",
       "      <td>7.69</td>\n",
       "      <td>Oct 2014</td>\n",
       "      <td>Current</td>\n",
       "      <td>730</td>\n",
       "      <td>734</td>\n",
       "      <td>94000.0</td>\n",
       "      <td>Oct 2015</td>\n",
       "      <td>732.0</td>\n",
       "    </tr>\n",
       "    <tr>\n",
       "      <th>4</th>\n",
       "      <td>35754571</td>\n",
       "      <td>2000</td>\n",
       "      <td>12.99</td>\n",
       "      <td>Oct 2014</td>\n",
       "      <td>Current</td>\n",
       "      <td>680</td>\n",
       "      <td>684</td>\n",
       "      <td>150000.0</td>\n",
       "      <td>Oct 2015</td>\n",
       "      <td>682.0</td>\n",
       "    </tr>\n",
       "  </tbody>\n",
       "</table>\n",
       "</div>"
      ],
      "text/plain": [
       "   member_id  loan_amnt  int_rate   issue_d loan_status  fico_range_low  \\\n",
       "0   35784929      18000      9.17  Oct 2014  Fully Paid             700   \n",
       "1   35914827      14000     11.67  Oct 2014     Current             670   \n",
       "2   35985086       8400      9.17  Oct 2014     Current             665   \n",
       "3   35945193      10000      7.69  Oct 2014     Current             730   \n",
       "4   35754571       2000     12.99  Oct 2014     Current             680   \n",
       "\n",
       "   fico_range_high  annual_inc last_pymnt_d  fico_avg  \n",
       "0              704    150000.0     Oct 2015     702.0  \n",
       "1              674    135000.0     Oct 2015     672.0  \n",
       "2              669     75000.0     Oct 2015     667.0  \n",
       "3              734     94000.0     Oct 2015     732.0  \n",
       "4              684    150000.0     Oct 2015     682.0  "
      ]
     },
     "execution_count": 7,
     "metadata": {},
     "output_type": "execute_result"
    }
   ],
   "source": [
    "df.head()"
   ]
  },
  {
   "cell_type": "markdown",
   "metadata": {
    "deletable": true,
    "editable": true
   },
   "source": [
    "## FICO & Int_Rate"
   ]
  },
  {
   "cell_type": "code",
   "execution_count": 8,
   "metadata": {
    "collapsed": false,
    "deletable": true,
    "editable": true
   },
   "outputs": [
    {
     "data": {
      "text/plain": [
       "<seaborn.axisgrid.JointGrid at 0x7fd335ce23d0>"
      ]
     },
     "execution_count": 8,
     "metadata": {},
     "output_type": "execute_result"
    },
    {
     "data": {
      "image/png": "[encoded data removed]",
      "text/plain": [
       "<matplotlib.figure.Figure at 0x7fd335ce2e50>"
      ]
     },
     "metadata": {},
     "output_type": "display_data"
    }
   ],
   "source": [
    "sns.jointplot(x='fico_avg', y='int_rate', data=df)"
   ]
  },
  {
   "cell_type": "markdown",
   "metadata": {
    "deletable": true,
    "editable": true
   },
   "source": [
    "Generally, the higher the FICO score is, the lower the interest rate is. However, low interest rate also shows for low FICO scores. Therefore, the average interest rates for each FICO score are evaluated as the following:"
   ]
  },
  {
   "cell_type": "code",
   "execution_count": 18,
   "metadata": {
    "collapsed": false,
    "deletable": true,
    "editable": true
   },
   "outputs": [
    {
     "data": {
      "text/html": [
       "<div>\n",
       "<style>\n",
       "    .dataframe thead tr:only-child th {\n",
       "        text-align: right;\n",
       "    }\n",
       "\n",
       "    .dataframe thead th {\n",
       "        text-align: left;\n",
       "    }\n",
       "\n",
       "    .dataframe tbody tr th {\n",
       "        vertical-align: top;\n",
       "    }\n",
       "</style>\n",
       "<table border=\"1\" class=\"dataframe\">\n",
       "  <thead>\n",
       "    <tr style=\"text-align: right;\">\n",
       "      <th></th>\n",
       "      <th>fico_avg</th>\n",
       "      <th>member_id</th>\n",
       "      <th>loan_amnt</th>\n",
       "      <th>int_rate</th>\n",
       "      <th>fico_range_low</th>\n",
       "      <th>fico_range_high</th>\n",
       "      <th>annual_inc</th>\n",
       "    </tr>\n",
       "  </thead>\n",
       "  <tbody>\n",
       "    <tr>\n",
       "      <th>0</th>\n",
       "      <td>662.0</td>\n",
       "      <td>4.868540e+07</td>\n",
       "      <td>10720.230066</td>\n",
       "      <td>13.332798</td>\n",
       "      <td>660.0</td>\n",
       "      <td>664.0</td>\n",
       "      <td>65565.889249</td>\n",
       "    </tr>\n",
       "    <tr>\n",
       "      <th>1</th>\n",
       "      <td>667.0</td>\n",
       "      <td>4.859252e+07</td>\n",
       "      <td>10986.127878</td>\n",
       "      <td>13.096710</td>\n",
       "      <td>665.0</td>\n",
       "      <td>669.0</td>\n",
       "      <td>65396.867557</td>\n",
       "    </tr>\n",
       "    <tr>\n",
       "      <th>2</th>\n",
       "      <td>672.0</td>\n",
       "      <td>4.874109e+07</td>\n",
       "      <td>11469.447326</td>\n",
       "      <td>12.798572</td>\n",
       "      <td>670.0</td>\n",
       "      <td>674.0</td>\n",
       "      <td>67628.061835</td>\n",
       "    </tr>\n",
       "    <tr>\n",
       "      <th>3</th>\n",
       "      <td>677.0</td>\n",
       "      <td>4.867104e+07</td>\n",
       "      <td>11736.646272</td>\n",
       "      <td>12.560717</td>\n",
       "      <td>675.0</td>\n",
       "      <td>679.0</td>\n",
       "      <td>68729.640856</td>\n",
       "    </tr>\n",
       "    <tr>\n",
       "      <th>4</th>\n",
       "      <td>682.0</td>\n",
       "      <td>4.879777e+07</td>\n",
       "      <td>12409.871612</td>\n",
       "      <td>12.188898</td>\n",
       "      <td>680.0</td>\n",
       "      <td>684.0</td>\n",
       "      <td>70263.959807</td>\n",
       "    </tr>\n",
       "  </tbody>\n",
       "</table>\n",
       "</div>"
      ],
      "text/plain": [
       "   fico_avg     member_id     loan_amnt   int_rate  fico_range_low  \\\n",
       "0     662.0  4.868540e+07  10720.230066  13.332798           660.0   \n",
       "1     667.0  4.859252e+07  10986.127878  13.096710           665.0   \n",
       "2     672.0  4.874109e+07  11469.447326  12.798572           670.0   \n",
       "3     677.0  4.867104e+07  11736.646272  12.560717           675.0   \n",
       "4     682.0  4.879777e+07  12409.871612  12.188898           680.0   \n",
       "\n",
       "   fico_range_high    annual_inc  \n",
       "0            664.0  65565.889249  \n",
       "1            669.0  65396.867557  \n",
       "2            674.0  67628.061835  \n",
       "3            679.0  68729.640856  \n",
       "4            684.0  70263.959807  "
      ]
     },
     "execution_count": 18,
     "metadata": {},
     "output_type": "execute_result"
    }
   ],
   "source": [
    "df_byfico = df.groupby(['fico_avg']).mean()\n",
    "df_byfico = df_byfico.reset_index()\n",
    "df_byfico.head()"
   ]
  },
  {
   "cell_type": "code",
   "execution_count": 19,
   "metadata": {
    "collapsed": false,
    "deletable": true,
    "editable": true
   },
   "outputs": [
    {
     "data": {
      "text/plain": [
       "<seaborn.axisgrid.JointGrid at 0x7fd335354f10>"
      ]
     },
     "execution_count": 19,
     "metadata": {},
     "output_type": "execute_result"
    },
    {
     "data": {
      "image/png": "[encoded data removed]",
      "text/plain": [
       "<matplotlib.figure.Figure at 0x7fd335354fd0>"
      ]
     },
     "metadata": {},
     "output_type": "display_data"
    }
   ],
   "source": [
    "sns.jointplot(x='fico_avg', y='int_rate', data=df_byfico)"
   ]
  },
  {
   "cell_type": "code",
   "execution_count": 88,
   "metadata": {
    "collapsed": false
   },
   "outputs": [
    {
     "data": {
      "text/plain": [
       "(38,)"
      ]
     },
     "execution_count": 88,
     "metadata": {},
     "output_type": "execute_result"
    }
   ],
   "source": [
    "df_byfico['int_rate'].shape"
   ]
  },
  {
   "cell_type": "code",
   "execution_count": 102,
   "metadata": {
    "collapsed": false
   },
   "outputs": [
    {
     "name": "stdout",
     "output_type": "stream",
     "text": [
      "Mean squared error: 0.02\n",
      "Variance score: 1.00\n"
     ]
    }
   ],
   "source": [
    "import numpy as np\n",
    "from sklearn.linear_model import LinearRegression\n",
    "from sklearn.preprocessing import PolynomialFeatures\n",
    "from sklearn.pipeline import make_pipeline\n",
    "from sklearn.model_selection import train_test_split\n",
    "\n",
    "X_train, X_test, y_train, y_test = train_test_split(df_byfico['fico_avg'].to_frame(), \n",
    "                                                    df_byfico['int_rate'].to_frame(),\n",
    "                                                    test_size=0.3, random_state=10)\n",
    "\n",
    "regr = make_pipeline(PolynomialFeatures(3), LinearRegression())\n",
    "regr.fit(X_train, y_train)\n",
    "\n",
    "print 'Mean squared error: %.2f' % np.mean((regr.predict(X_test) - y_test) ** 2)\n",
    "print 'Variance score: %.2f' % regr.score(X_test, y_test)"
   ]
  },
  {
   "cell_type": "markdown",
   "metadata": {
    "deletable": true,
    "editable": true
   },
   "source": [
    "Conclusion: The larger the FICO score is, the lower the interest rate is. The relationship can be modeled by polynomial regression."
   ]
  },
  {
   "cell_type": "markdown",
   "metadata": {
    "deletable": true,
    "editable": true
   },
   "source": [
    "## Loan Amount & Interest Rate"
   ]
  },
  {
   "cell_type": "code",
   "execution_count": 51,
   "metadata": {
    "collapsed": false,
    "deletable": true,
    "editable": true
   },
   "outputs": [
    {
     "data": {
      "text/plain": [
       "<seaborn.axisgrid.JointGrid at 0x7f066aeca210>"
      ]
     },
     "execution_count": 51,
     "metadata": {},
     "output_type": "execute_result"
    },
    {
     "data": {
      "image/png": "[encoded data removed]",
      "text/plain": [
       "<matplotlib.figure.Figure at 0x7f066c4c9290>"
      ]
     },
     "metadata": {},
     "output_type": "display_data"
    }
   ],
   "source": [
    "sns.jointplot(x='loan_amnt', y='int_rate', data=df)"
   ]
  },
  {
   "cell_type": "code",
   "execution_count": 59,
   "metadata": {
    "collapsed": false,
    "deletable": true,
    "editable": true
   },
   "outputs": [],
   "source": [
    "import numpy as np\n",
    "df_byamnt = df.groupby( pd.cut(df['loan_amnt'], np.arange(0, df['loan_amnt'].max()+2500, 2500)) ).mean()"
   ]
  },
  {
   "cell_type": "code",
   "execution_count": 47,
   "metadata": {
    "collapsed": false,
    "deletable": true,
    "editable": true
   },
   "outputs": [
    {
     "data": {
      "text/plain": [
       "<seaborn.axisgrid.JointGrid at 0x7fd330396050>"
      ]
     },
     "execution_count": 47,
     "metadata": {},
     "output_type": "execute_result"
    },
    {
     "data": {
      "image/png": "[encoded data removed]",
      "text/plain": [
       "<matplotlib.figure.Figure at 0x7fd3303960d0>"
      ]
     },
     "metadata": {},
     "output_type": "display_data"
    }
   ],
   "source": [
    "sns.jointplot(x='loan_amnt', y='int_rate', data=df_byamnt)"
   ]
  },
  {
   "cell_type": "code",
   "execution_count": 55,
   "metadata": {
    "collapsed": false,
    "deletable": true,
    "editable": true
   },
   "outputs": [
    {
     "data": {
      "text/html": [
       "<div>\n",
       "<style>\n",
       "    .dataframe thead tr:only-child th {\n",
       "        text-align: right;\n",
       "    }\n",
       "\n",
       "    .dataframe thead th {\n",
       "        text-align: left;\n",
       "    }\n",
       "\n",
       "    .dataframe tbody tr th {\n",
       "        vertical-align: top;\n",
       "    }\n",
       "</style>\n",
       "<table border=\"1\" class=\"dataframe\">\n",
       "  <thead>\n",
       "    <tr style=\"text-align: right;\">\n",
       "      <th></th>\n",
       "      <th>member_id</th>\n",
       "      <th>loan_amnt</th>\n",
       "      <th>int_rate</th>\n",
       "      <th>fico_range_low</th>\n",
       "      <th>fico_range_high</th>\n",
       "      <th>annual_inc</th>\n",
       "      <th>fico_avg</th>\n",
       "    </tr>\n",
       "    <tr>\n",
       "      <th>loan_amnt</th>\n",
       "      <th></th>\n",
       "      <th></th>\n",
       "      <th></th>\n",
       "      <th></th>\n",
       "      <th></th>\n",
       "      <th></th>\n",
       "      <th></th>\n",
       "    </tr>\n",
       "  </thead>\n",
       "  <tbody>\n",
       "    <tr>\n",
       "      <th>(0, 1000]</th>\n",
       "      <td>4.845886e+07</td>\n",
       "      <td>1000.000000</td>\n",
       "      <td>13.510940</td>\n",
       "      <td>688.247863</td>\n",
       "      <td>692.247863</td>\n",
       "      <td>46947.286976</td>\n",
       "      <td>690.247863</td>\n",
       "    </tr>\n",
       "    <tr>\n",
       "      <th>(1000, 2000]</th>\n",
       "      <td>4.877160e+07</td>\n",
       "      <td>1722.913218</td>\n",
       "      <td>13.148792</td>\n",
       "      <td>688.169780</td>\n",
       "      <td>692.170017</td>\n",
       "      <td>49714.006299</td>\n",
       "      <td>690.169898</td>\n",
       "    </tr>\n",
       "    <tr>\n",
       "      <th>(2000, 3000]</th>\n",
       "      <td>4.874163e+07</td>\n",
       "      <td>2745.155955</td>\n",
       "      <td>12.936353</td>\n",
       "      <td>688.202133</td>\n",
       "      <td>692.202133</td>\n",
       "      <td>52930.421420</td>\n",
       "      <td>690.202133</td>\n",
       "    </tr>\n",
       "    <tr>\n",
       "      <th>(3000, 4000]</th>\n",
       "      <td>4.912104e+07</td>\n",
       "      <td>3719.115615</td>\n",
       "      <td>12.834726</td>\n",
       "      <td>688.046407</td>\n",
       "      <td>692.046522</td>\n",
       "      <td>52273.256491</td>\n",
       "      <td>690.046465</td>\n",
       "    </tr>\n",
       "    <tr>\n",
       "      <th>(4000, 5000]</th>\n",
       "      <td>4.893740e+07</td>\n",
       "      <td>4844.753332</td>\n",
       "      <td>11.965339</td>\n",
       "      <td>688.698802</td>\n",
       "      <td>692.698863</td>\n",
       "      <td>55575.232378</td>\n",
       "      <td>690.698832</td>\n",
       "    </tr>\n",
       "  </tbody>\n",
       "</table>\n",
       "</div>"
      ],
      "text/plain": [
       "                 member_id    loan_amnt   int_rate  fico_range_low  \\\n",
       "loan_amnt                                                            \n",
       "(0, 1000]     4.845886e+07  1000.000000  13.510940      688.247863   \n",
       "(1000, 2000]  4.877160e+07  1722.913218  13.148792      688.169780   \n",
       "(2000, 3000]  4.874163e+07  2745.155955  12.936353      688.202133   \n",
       "(3000, 4000]  4.912104e+07  3719.115615  12.834726      688.046407   \n",
       "(4000, 5000]  4.893740e+07  4844.753332  11.965339      688.698802   \n",
       "\n",
       "              fico_range_high    annual_inc    fico_avg  \n",
       "loan_amnt                                                \n",
       "(0, 1000]          692.247863  46947.286976  690.247863  \n",
       "(1000, 2000]       692.170017  49714.006299  690.169898  \n",
       "(2000, 3000]       692.202133  52930.421420  690.202133  \n",
       "(3000, 4000]       692.046522  52273.256491  690.046465  \n",
       "(4000, 5000]       692.698863  55575.232378  690.698832  "
      ]
     },
     "execution_count": 55,
     "metadata": {},
     "output_type": "execute_result"
    }
   ],
   "source": [
    "df_byamnt = df.groupby( pd.cut(df['loan_amnt'], np.arange(0, df['loan_amnt'].max()+1000, 1000)) ).mean()\n",
    "#counts = df.groupby( pd.cut(df['loan_amnt'], np.arange(0, df['loan_amnt'].max()+1000, 1000)) ).size()\n",
    "df_byamnt.head()"
   ]
  },
  {
   "cell_type": "code",
   "execution_count": 56,
   "metadata": {
    "collapsed": false,
    "deletable": true,
    "editable": true
   },
   "outputs": [
    {
     "data": {
      "text/plain": [
       "<seaborn.axisgrid.JointGrid at 0x7fd32fbc92d0>"
      ]
     },
     "execution_count": 56,
     "metadata": {},
     "output_type": "execute_result"
    },
    {
     "data": {
      "image/png": "[encoded data removed]",
      "text/plain": [
       "<matplotlib.figure.Figure at 0x7fd32fbc9b50>"
      ]
     },
     "metadata": {},
     "output_type": "display_data"
    }
   ],
   "source": [
    "sns.jointplot(x='loan_amnt', y='int_rate', data=df_byamnt)"
   ]
  },
  {
   "cell_type": "markdown",
   "metadata": {
    "deletable": true,
    "editable": true
   },
   "source": [
    "Grouping by the column 'load_amnt' with different bin sizes. The interest rate is high for both very small and very large loan amount. The interest rates are particularly low for loans with amount between 20000 and 30000 dollars."
   ]
  },
  {
   "cell_type": "markdown",
   "metadata": {
    "deletable": true,
    "editable": true
   },
   "source": [
    "## FICO Score, Loan Amount & Loan Status"
   ]
  },
  {
   "cell_type": "code",
   "execution_count": 57,
   "metadata": {
    "collapsed": false,
    "deletable": true,
    "editable": true
   },
   "outputs": [
    {
     "data": {
      "text/plain": [
       "<matplotlib.axes._subplots.AxesSubplot at 0x7f066a26f590>"
      ]
     },
     "execution_count": 57,
     "metadata": {},
     "output_type": "execute_result"
    },
    {
     "data": {
      "image/png": "[encoded data removed]",
      "text/plain": [
       "<matplotlib.figure.Figure at 0x7f066ae0e810>"
      ]
     },
     "metadata": {},
     "output_type": "display_data"
    }
   ],
   "source": [
    "sns.boxplot(x='loan_status', y='loan_amnt', data=df, palette=\"Set2\")"
   ]
  },
  {
   "cell_type": "code",
   "execution_count": 58,
   "metadata": {
    "collapsed": false,
    "deletable": true,
    "editable": true
   },
   "outputs": [
    {
     "data": {
      "text/plain": [
       "<matplotlib.axes._subplots.AxesSubplot at 0x7f0669fa8910>"
      ]
     },
     "execution_count": 58,
     "metadata": {},
     "output_type": "execute_result"
    },
    {
     "data": {
      "image/png": "[encoded data removed]",
      "text/plain": [
       "<matplotlib.figure.Figure at 0x7f066a688e10>"
      ]
     },
     "metadata": {},
     "output_type": "display_data"
    }
   ],
   "source": [
    "sns.boxplot(x='loan_status', y='fico_avg', data=df, palette=\"Set3\")"
   ]
  },
  {
   "cell_type": "code",
   "execution_count": 64,
   "metadata": {
    "collapsed": false,
    "deletable": true,
    "editable": true
   },
   "outputs": [
    {
     "data": {
      "text/html": [
       "<div>\n",
       "<style>\n",
       "    .dataframe thead tr:only-child th {\n",
       "        text-align: right;\n",
       "    }\n",
       "\n",
       "    .dataframe thead th {\n",
       "        text-align: left;\n",
       "    }\n",
       "\n",
       "    .dataframe tbody tr th {\n",
       "        vertical-align: top;\n",
       "    }\n",
       "</style>\n",
       "<table border=\"1\" class=\"dataframe\">\n",
       "  <thead>\n",
       "    <tr style=\"text-align: right;\">\n",
       "      <th></th>\n",
       "      <th>mean</th>\n",
       "      <th>count</th>\n",
       "      <th>min</th>\n",
       "      <th>max</th>\n",
       "    </tr>\n",
       "    <tr>\n",
       "      <th>loan_status</th>\n",
       "      <th></th>\n",
       "      <th></th>\n",
       "      <th></th>\n",
       "      <th></th>\n",
       "    </tr>\n",
       "  </thead>\n",
       "  <tbody>\n",
       "    <tr>\n",
       "      <th>Charged Off</th>\n",
       "      <td>11912.849079</td>\n",
       "      <td>1683</td>\n",
       "      <td>1000</td>\n",
       "      <td>35000</td>\n",
       "    </tr>\n",
       "    <tr>\n",
       "      <th>Current</th>\n",
       "      <td>12859.716745</td>\n",
       "      <td>220879</td>\n",
       "      <td>1000</td>\n",
       "      <td>35000</td>\n",
       "    </tr>\n",
       "    <tr>\n",
       "      <th>Fully Paid</th>\n",
       "      <td>11573.833718</td>\n",
       "      <td>16484</td>\n",
       "      <td>1000</td>\n",
       "      <td>35000</td>\n",
       "    </tr>\n",
       "  </tbody>\n",
       "</table>\n",
       "</div>"
      ],
      "text/plain": [
       "                     mean   count   min    max\n",
       "loan_status                                   \n",
       "Charged Off  11912.849079    1683  1000  35000\n",
       "Current      12859.716745  220879  1000  35000\n",
       "Fully Paid   11573.833718   16484  1000  35000"
      ]
     },
     "execution_count": 64,
     "metadata": {},
     "output_type": "execute_result"
    }
   ],
   "source": [
    "df.groupby(['loan_status']).agg(['mean', 'count', 'min', 'max'])['loan_amnt']"
   ]
  },
  {
   "cell_type": "code",
   "execution_count": 63,
   "metadata": {
    "collapsed": false,
    "deletable": true,
    "editable": true
   },
   "outputs": [
    {
     "data": {
      "text/html": [
       "<div>\n",
       "<style>\n",
       "    .dataframe thead tr:only-child th {\n",
       "        text-align: right;\n",
       "    }\n",
       "\n",
       "    .dataframe thead th {\n",
       "        text-align: left;\n",
       "    }\n",
       "\n",
       "    .dataframe tbody tr th {\n",
       "        vertical-align: top;\n",
       "    }\n",
       "</style>\n",
       "<table border=\"1\" class=\"dataframe\">\n",
       "  <thead>\n",
       "    <tr style=\"text-align: right;\">\n",
       "      <th></th>\n",
       "      <th>mean</th>\n",
       "      <th>count</th>\n",
       "      <th>min</th>\n",
       "      <th>max</th>\n",
       "    </tr>\n",
       "    <tr>\n",
       "      <th>loan_status</th>\n",
       "      <th></th>\n",
       "      <th></th>\n",
       "      <th></th>\n",
       "      <th></th>\n",
       "    </tr>\n",
       "  </thead>\n",
       "  <tbody>\n",
       "    <tr>\n",
       "      <th>Charged Off</th>\n",
       "      <td>685.161319</td>\n",
       "      <td>1683</td>\n",
       "      <td>662.0</td>\n",
       "      <td>847.5</td>\n",
       "    </tr>\n",
       "    <tr>\n",
       "      <th>Current</th>\n",
       "      <td>694.894137</td>\n",
       "      <td>220879</td>\n",
       "      <td>662.0</td>\n",
       "      <td>847.5</td>\n",
       "    </tr>\n",
       "    <tr>\n",
       "      <th>Fully Paid</th>\n",
       "      <td>696.394655</td>\n",
       "      <td>16484</td>\n",
       "      <td>662.0</td>\n",
       "      <td>847.5</td>\n",
       "    </tr>\n",
       "  </tbody>\n",
       "</table>\n",
       "</div>"
      ],
      "text/plain": [
       "                   mean   count    min    max\n",
       "loan_status                                  \n",
       "Charged Off  685.161319    1683  662.0  847.5\n",
       "Current      694.894137  220879  662.0  847.5\n",
       "Fully Paid   696.394655   16484  662.0  847.5"
      ]
     },
     "execution_count": 63,
     "metadata": {},
     "output_type": "execute_result"
    }
   ],
   "source": [
    "df.groupby(['loan_status']).agg(['mean', 'count', 'min', 'max'])['fico_avg']"
   ]
  },
  {
   "cell_type": "markdown",
   "metadata": {
    "deletable": true,
    "editable": true
   },
   "source": [
    "For loan amount, the fully paid loans have smaller loan amounts on average.\n",
    "\n",
    "For FICO score, the charged off loans have much lower FICO scores than the current and fully paid loans on averge. The FICO scores for fully paid loans are slightly higher. "
   ]
  },
  {
   "cell_type": "markdown",
   "metadata": {
    "deletable": true,
    "editable": true
   },
   "source": [
    "## Charged Off Percentage"
   ]
  },
  {
   "cell_type": "code",
   "execution_count": 65,
   "metadata": {
    "collapsed": false,
    "deletable": true,
    "editable": true
   },
   "outputs": [
    {
     "data": {
      "text/html": [
       "<div>\n",
       "<style>\n",
       "    .dataframe thead tr:only-child th {\n",
       "        text-align: right;\n",
       "    }\n",
       "\n",
       "    .dataframe thead th {\n",
       "        text-align: left;\n",
       "    }\n",
       "\n",
       "    .dataframe tbody tr th {\n",
       "        vertical-align: top;\n",
       "    }\n",
       "</style>\n",
       "<table border=\"1\" class=\"dataframe\">\n",
       "  <thead>\n",
       "    <tr style=\"text-align: right;\">\n",
       "      <th></th>\n",
       "      <th>member_id</th>\n",
       "      <th>loan_amnt</th>\n",
       "      <th>int_rate</th>\n",
       "      <th>issue_d</th>\n",
       "      <th>loan_status</th>\n",
       "      <th>fico_range_low</th>\n",
       "      <th>fico_range_high</th>\n",
       "      <th>annual_inc</th>\n",
       "      <th>last_pymnt_d</th>\n",
       "      <th>fico_avg</th>\n",
       "    </tr>\n",
       "  </thead>\n",
       "  <tbody>\n",
       "    <tr>\n",
       "      <th>18</th>\n",
       "      <td>35974764</td>\n",
       "      <td>30000</td>\n",
       "      <td>18.24</td>\n",
       "      <td>Oct 2014</td>\n",
       "      <td>Charged Off</td>\n",
       "      <td>725</td>\n",
       "      <td>729</td>\n",
       "      <td>69498.0</td>\n",
       "      <td>NaN</td>\n",
       "      <td>727.0</td>\n",
       "    </tr>\n",
       "    <tr>\n",
       "      <th>89</th>\n",
       "      <td>35784636</td>\n",
       "      <td>10000</td>\n",
       "      <td>17.57</td>\n",
       "      <td>Oct 2014</td>\n",
       "      <td>Charged Off</td>\n",
       "      <td>680</td>\n",
       "      <td>684</td>\n",
       "      <td>35000.0</td>\n",
       "      <td>Jun 2015</td>\n",
       "      <td>682.0</td>\n",
       "    </tr>\n",
       "    <tr>\n",
       "      <th>165</th>\n",
       "      <td>35984500</td>\n",
       "      <td>4625</td>\n",
       "      <td>12.49</td>\n",
       "      <td>Oct 2014</td>\n",
       "      <td>Charged Off</td>\n",
       "      <td>710</td>\n",
       "      <td>714</td>\n",
       "      <td>30000.0</td>\n",
       "      <td>Jul 2015</td>\n",
       "      <td>712.0</td>\n",
       "    </tr>\n",
       "    <tr>\n",
       "      <th>167</th>\n",
       "      <td>34130430</td>\n",
       "      <td>10000</td>\n",
       "      <td>12.99</td>\n",
       "      <td>Oct 2014</td>\n",
       "      <td>Charged Off</td>\n",
       "      <td>690</td>\n",
       "      <td>694</td>\n",
       "      <td>40000.0</td>\n",
       "      <td>Jun 2015</td>\n",
       "      <td>692.0</td>\n",
       "    </tr>\n",
       "    <tr>\n",
       "      <th>175</th>\n",
       "      <td>35844594</td>\n",
       "      <td>35000</td>\n",
       "      <td>25.83</td>\n",
       "      <td>Oct 2014</td>\n",
       "      <td>Charged Off</td>\n",
       "      <td>680</td>\n",
       "      <td>684</td>\n",
       "      <td>100000.0</td>\n",
       "      <td>Apr 2015</td>\n",
       "      <td>682.0</td>\n",
       "    </tr>\n",
       "  </tbody>\n",
       "</table>\n",
       "</div>"
      ],
      "text/plain": [
       "     member_id  loan_amnt  int_rate   issue_d  loan_status  fico_range_low  \\\n",
       "18    35974764      30000     18.24  Oct 2014  Charged Off             725   \n",
       "89    35784636      10000     17.57  Oct 2014  Charged Off             680   \n",
       "165   35984500       4625     12.49  Oct 2014  Charged Off             710   \n",
       "167   34130430      10000     12.99  Oct 2014  Charged Off             690   \n",
       "175   35844594      35000     25.83  Oct 2014  Charged Off             680   \n",
       "\n",
       "     fico_range_high  annual_inc last_pymnt_d  fico_avg  \n",
       "18               729     69498.0          NaN     727.0  \n",
       "89               684     35000.0     Jun 2015     682.0  \n",
       "165              714     30000.0     Jul 2015     712.0  \n",
       "167              694     40000.0     Jun 2015     692.0  \n",
       "175              684    100000.0     Apr 2015     682.0  "
      ]
     },
     "execution_count": 65,
     "metadata": {},
     "output_type": "execute_result"
    }
   ],
   "source": [
    "group_df = df.groupby('loan_status')\n",
    "group_df.get_group('Charged Off').head()"
   ]
  },
  {
   "cell_type": "code",
   "execution_count": 66,
   "metadata": {
    "collapsed": false,
    "deletable": true,
    "editable": true
   },
   "outputs": [
    {
     "name": "stdout",
     "output_type": "stream",
     "text": [
      "0.00704048593158\n",
      "0.924002074914\n",
      "0.068957439154\n"
     ]
    }
   ],
   "source": [
    "print 1.0*len(group_df.groups['Charged Off'])/df.shape[0]\n",
    "print 1.0*len(group_df.groups['Current'])/df.shape[0]\n",
    "print 1.0*len(group_df.groups['Fully Paid'])/df.shape[0]"
   ]
  },
  {
   "cell_type": "markdown",
   "metadata": {
    "deletable": true,
    "editable": true
   },
   "source": [
    "0.7% of loans have been charged off as of October 2015."
   ]
  },
  {
   "cell_type": "markdown",
   "metadata": {
    "deletable": true,
    "editable": true
   },
   "source": [
    "## Estimate the Charged Off in the future: Survival analysis"
   ]
  },
  {
   "cell_type": "code",
   "execution_count": 67,
   "metadata": {
    "collapsed": false,
    "deletable": true,
    "editable": true
   },
   "outputs": [
    {
     "data": {
      "text/html": [
       "<div>\n",
       "<style>\n",
       "    .dataframe thead tr:only-child th {\n",
       "        text-align: right;\n",
       "    }\n",
       "\n",
       "    .dataframe thead th {\n",
       "        text-align: left;\n",
       "    }\n",
       "\n",
       "    .dataframe tbody tr th {\n",
       "        vertical-align: top;\n",
       "    }\n",
       "</style>\n",
       "<table border=\"1\" class=\"dataframe\">\n",
       "  <thead>\n",
       "    <tr style=\"text-align: right;\">\n",
       "      <th></th>\n",
       "      <th>member_id</th>\n",
       "      <th>loan_amnt</th>\n",
       "      <th>int_rate</th>\n",
       "      <th>issue_d</th>\n",
       "      <th>loan_status</th>\n",
       "      <th>fico_range_low</th>\n",
       "      <th>fico_range_high</th>\n",
       "      <th>annual_inc</th>\n",
       "      <th>last_pymnt_d</th>\n",
       "      <th>fico_avg</th>\n",
       "    </tr>\n",
       "  </thead>\n",
       "  <tbody>\n",
       "    <tr>\n",
       "      <th>0</th>\n",
       "      <td>35784929</td>\n",
       "      <td>18000</td>\n",
       "      <td>9.17</td>\n",
       "      <td>2014-10-01</td>\n",
       "      <td>Fully Paid</td>\n",
       "      <td>700</td>\n",
       "      <td>704</td>\n",
       "      <td>150000.0</td>\n",
       "      <td>2015-10-01</td>\n",
       "      <td>702.0</td>\n",
       "    </tr>\n",
       "    <tr>\n",
       "      <th>1</th>\n",
       "      <td>35914827</td>\n",
       "      <td>14000</td>\n",
       "      <td>11.67</td>\n",
       "      <td>2014-10-01</td>\n",
       "      <td>Current</td>\n",
       "      <td>670</td>\n",
       "      <td>674</td>\n",
       "      <td>135000.0</td>\n",
       "      <td>2015-10-01</td>\n",
       "      <td>672.0</td>\n",
       "    </tr>\n",
       "    <tr>\n",
       "      <th>2</th>\n",
       "      <td>35985086</td>\n",
       "      <td>8400</td>\n",
       "      <td>9.17</td>\n",
       "      <td>2014-10-01</td>\n",
       "      <td>Current</td>\n",
       "      <td>665</td>\n",
       "      <td>669</td>\n",
       "      <td>75000.0</td>\n",
       "      <td>2015-10-01</td>\n",
       "      <td>667.0</td>\n",
       "    </tr>\n",
       "    <tr>\n",
       "      <th>3</th>\n",
       "      <td>35945193</td>\n",
       "      <td>10000</td>\n",
       "      <td>7.69</td>\n",
       "      <td>2014-10-01</td>\n",
       "      <td>Current</td>\n",
       "      <td>730</td>\n",
       "      <td>734</td>\n",
       "      <td>94000.0</td>\n",
       "      <td>2015-10-01</td>\n",
       "      <td>732.0</td>\n",
       "    </tr>\n",
       "    <tr>\n",
       "      <th>4</th>\n",
       "      <td>35754571</td>\n",
       "      <td>2000</td>\n",
       "      <td>12.99</td>\n",
       "      <td>2014-10-01</td>\n",
       "      <td>Current</td>\n",
       "      <td>680</td>\n",
       "      <td>684</td>\n",
       "      <td>150000.0</td>\n",
       "      <td>2015-10-01</td>\n",
       "      <td>682.0</td>\n",
       "    </tr>\n",
       "  </tbody>\n",
       "</table>\n",
       "</div>"
      ],
      "text/plain": [
       "   member_id  loan_amnt  int_rate    issue_d loan_status  fico_range_low  \\\n",
       "0   35784929      18000      9.17 2014-10-01  Fully Paid             700   \n",
       "1   35914827      14000     11.67 2014-10-01     Current             670   \n",
       "2   35985086       8400      9.17 2014-10-01     Current             665   \n",
       "3   35945193      10000      7.69 2014-10-01     Current             730   \n",
       "4   35754571       2000     12.99 2014-10-01     Current             680   \n",
       "\n",
       "   fico_range_high  annual_inc last_pymnt_d  fico_avg  \n",
       "0              704    150000.0   2015-10-01     702.0  \n",
       "1              674    135000.0   2015-10-01     672.0  \n",
       "2              669     75000.0   2015-10-01     667.0  \n",
       "3              734     94000.0   2015-10-01     732.0  \n",
       "4              684    150000.0   2015-10-01     682.0  "
      ]
     },
     "execution_count": 67,
     "metadata": {},
     "output_type": "execute_result"
    }
   ],
   "source": [
    "from datetime import datetime\n",
    "df['issue_d'] = pd.to_datetime(df['issue_d'], format='%b %Y')\n",
    "df['last_pymnt_d'] = pd.to_datetime(df['last_pymnt_d'], format='%b %Y', errors='coerce')\n",
    "df.head()"
   ]
  },
  {
   "cell_type": "code",
   "execution_count": 68,
   "metadata": {
    "collapsed": false,
    "deletable": true,
    "editable": true
   },
   "outputs": [],
   "source": [
    "df['last_pymnt_d'] = df['last_pymnt_d'].fillna(df['issue_d'])"
   ]
  },
  {
   "cell_type": "code",
   "execution_count": 69,
   "metadata": {
    "collapsed": false,
    "deletable": true,
    "editable": true
   },
   "outputs": [
    {
     "data": {
      "text/html": [
       "<div>\n",
       "<style>\n",
       "    .dataframe thead tr:only-child th {\n",
       "        text-align: right;\n",
       "    }\n",
       "\n",
       "    .dataframe thead th {\n",
       "        text-align: left;\n",
       "    }\n",
       "\n",
       "    .dataframe tbody tr th {\n",
       "        vertical-align: top;\n",
       "    }\n",
       "</style>\n",
       "<table border=\"1\" class=\"dataframe\">\n",
       "  <thead>\n",
       "    <tr style=\"text-align: right;\">\n",
       "      <th></th>\n",
       "      <th>member_id</th>\n",
       "      <th>loan_amnt</th>\n",
       "      <th>int_rate</th>\n",
       "      <th>issue_d</th>\n",
       "      <th>loan_status</th>\n",
       "      <th>fico_range_low</th>\n",
       "      <th>fico_range_high</th>\n",
       "      <th>annual_inc</th>\n",
       "      <th>last_pymnt_d</th>\n",
       "      <th>fico_avg</th>\n",
       "    </tr>\n",
       "  </thead>\n",
       "  <tbody>\n",
       "  </tbody>\n",
       "</table>\n",
       "</div>"
      ],
      "text/plain": [
       "Empty DataFrame\n",
       "Columns: [member_id, loan_amnt, int_rate, issue_d, loan_status, fico_range_low, fico_range_high, annual_inc, last_pymnt_d, fico_avg]\n",
       "Index: []"
      ]
     },
     "execution_count": 69,
     "metadata": {},
     "output_type": "execute_result"
    }
   ],
   "source": [
    "df[df['last_pymnt_d'].isnull()]"
   ]
  },
  {
   "cell_type": "code",
   "execution_count": 70,
   "metadata": {
    "collapsed": false,
    "deletable": true,
    "editable": true
   },
   "outputs": [],
   "source": [
    "from datetime import timedelta\n",
    "import numpy as np\n",
    "\n",
    "T = []\n",
    "E = []\n",
    "for index, row in df.iterrows():\n",
    "    if row['loan_status'] != 'Charged Off':\n",
    "        E.append(0)     \n",
    "    else:\n",
    "        E.append(1)\n",
    "    td = row['last_pymnt_d']-row['issue_d']+timedelta(30)\n",
    "    T.append((td / np.timedelta64(1, 'D')).astype(int))"
   ]
  },
  {
   "cell_type": "code",
   "execution_count": 71,
   "metadata": {
    "collapsed": false,
    "deletable": true,
    "editable": true
   },
   "outputs": [
    {
     "data": {
      "text/plain": [
       "<lifelines.KaplanMeierFitter: fitted with 239046 observations, 237363 censored>"
      ]
     },
     "execution_count": 71,
     "metadata": {},
     "output_type": "execute_result"
    }
   ],
   "source": [
    "from lifelines import KaplanMeierFitter\n",
    "kmf = KaplanMeierFitter()\n",
    "kmf.fit(T, event_observed=E)"
   ]
  },
  {
   "cell_type": "code",
   "execution_count": 72,
   "metadata": {
    "collapsed": false,
    "deletable": true,
    "editable": true
   },
   "outputs": [
    {
     "data": {
      "text/html": [
       "<div>\n",
       "<style>\n",
       "    .dataframe thead tr:only-child th {\n",
       "        text-align: right;\n",
       "    }\n",
       "\n",
       "    .dataframe thead th {\n",
       "        text-align: left;\n",
       "    }\n",
       "\n",
       "    .dataframe tbody tr th {\n",
       "        vertical-align: top;\n",
       "    }\n",
       "</style>\n",
       "<table border=\"1\" class=\"dataframe\">\n",
       "  <thead>\n",
       "    <tr style=\"text-align: right;\">\n",
       "      <th></th>\n",
       "      <th>KM_estimate</th>\n",
       "    </tr>\n",
       "    <tr>\n",
       "      <th>timeline</th>\n",
       "      <th></th>\n",
       "    </tr>\n",
       "  </thead>\n",
       "  <tbody>\n",
       "    <tr>\n",
       "      <th>0.0</th>\n",
       "      <td>1.000000</td>\n",
       "    </tr>\n",
       "    <tr>\n",
       "      <th>30.0</th>\n",
       "      <td>0.999615</td>\n",
       "    </tr>\n",
       "    <tr>\n",
       "      <th>58.0</th>\n",
       "      <td>0.999539</td>\n",
       "    </tr>\n",
       "    <tr>\n",
       "      <th>60.0</th>\n",
       "      <td>0.999337</td>\n",
       "    </tr>\n",
       "    <tr>\n",
       "      <th>61.0</th>\n",
       "      <td>0.998972</td>\n",
       "    </tr>\n",
       "  </tbody>\n",
       "</table>\n",
       "</div>"
      ],
      "text/plain": [
       "          KM_estimate\n",
       "timeline             \n",
       "0.0          1.000000\n",
       "30.0         0.999615\n",
       "58.0         0.999539\n",
       "60.0         0.999337\n",
       "61.0         0.998972"
      ]
     },
     "execution_count": 72,
     "metadata": {},
     "output_type": "execute_result"
    }
   ],
   "source": [
    "kmf.survival_function_.head()"
   ]
  },
  {
   "cell_type": "code",
   "execution_count": 73,
   "metadata": {
    "collapsed": false,
    "deletable": true,
    "editable": true
   },
   "outputs": [
    {
     "data": {
      "text/plain": [
       "<matplotlib.axes._subplots.AxesSubplot at 0x7fd32f61be90>"
      ]
     },
     "execution_count": 73,
     "metadata": {},
     "output_type": "execute_result"
    },
    {
     "data": {
      "image/png": "[encoded data removed]",
      "text/plain": [
       "<matplotlib.figure.Figure at 0x7fd32f7f7cd0>"
      ]
     },
     "metadata": {},
     "output_type": "display_data"
    }
   ],
   "source": [
    "kmf.plot()"
   ]
  },
  {
   "cell_type": "code",
   "execution_count": 74,
   "metadata": {
    "collapsed": false,
    "deletable": true,
    "editable": true
   },
   "outputs": [
    {
     "data": {
      "text/html": [
       "<div>\n",
       "<style>\n",
       "    .dataframe thead tr:only-child th {\n",
       "        text-align: right;\n",
       "    }\n",
       "\n",
       "    .dataframe thead th {\n",
       "        text-align: left;\n",
       "    }\n",
       "\n",
       "    .dataframe tbody tr th {\n",
       "        vertical-align: top;\n",
       "    }\n",
       "</style>\n",
       "<table border=\"1\" class=\"dataframe\">\n",
       "  <thead>\n",
       "    <tr style=\"text-align: right;\">\n",
       "      <th></th>\n",
       "      <th>member_id</th>\n",
       "      <th>loan_amnt</th>\n",
       "      <th>int_rate</th>\n",
       "      <th>issue_d</th>\n",
       "      <th>loan_status</th>\n",
       "      <th>fico_range_low</th>\n",
       "      <th>fico_range_high</th>\n",
       "      <th>annual_inc</th>\n",
       "      <th>last_pymnt_d</th>\n",
       "      <th>fico_avg</th>\n",
       "    </tr>\n",
       "  </thead>\n",
       "  <tbody>\n",
       "    <tr>\n",
       "      <th>1</th>\n",
       "      <td>35914827</td>\n",
       "      <td>14000</td>\n",
       "      <td>11.67</td>\n",
       "      <td>2014-10-01</td>\n",
       "      <td>Current</td>\n",
       "      <td>670</td>\n",
       "      <td>674</td>\n",
       "      <td>135000.0</td>\n",
       "      <td>2015-10-01</td>\n",
       "      <td>672.0</td>\n",
       "    </tr>\n",
       "    <tr>\n",
       "      <th>2</th>\n",
       "      <td>35985086</td>\n",
       "      <td>8400</td>\n",
       "      <td>9.17</td>\n",
       "      <td>2014-10-01</td>\n",
       "      <td>Current</td>\n",
       "      <td>665</td>\n",
       "      <td>669</td>\n",
       "      <td>75000.0</td>\n",
       "      <td>2015-10-01</td>\n",
       "      <td>667.0</td>\n",
       "    </tr>\n",
       "    <tr>\n",
       "      <th>3</th>\n",
       "      <td>35945193</td>\n",
       "      <td>10000</td>\n",
       "      <td>7.69</td>\n",
       "      <td>2014-10-01</td>\n",
       "      <td>Current</td>\n",
       "      <td>730</td>\n",
       "      <td>734</td>\n",
       "      <td>94000.0</td>\n",
       "      <td>2015-10-01</td>\n",
       "      <td>732.0</td>\n",
       "    </tr>\n",
       "    <tr>\n",
       "      <th>4</th>\n",
       "      <td>35754571</td>\n",
       "      <td>2000</td>\n",
       "      <td>12.99</td>\n",
       "      <td>2014-10-01</td>\n",
       "      <td>Current</td>\n",
       "      <td>680</td>\n",
       "      <td>684</td>\n",
       "      <td>150000.0</td>\n",
       "      <td>2015-10-01</td>\n",
       "      <td>682.0</td>\n",
       "    </tr>\n",
       "    <tr>\n",
       "      <th>5</th>\n",
       "      <td>35925142</td>\n",
       "      <td>6000</td>\n",
       "      <td>9.17</td>\n",
       "      <td>2014-10-01</td>\n",
       "      <td>Current</td>\n",
       "      <td>725</td>\n",
       "      <td>729</td>\n",
       "      <td>60000.0</td>\n",
       "      <td>2015-10-01</td>\n",
       "      <td>727.0</td>\n",
       "    </tr>\n",
       "  </tbody>\n",
       "</table>\n",
       "</div>"
      ],
      "text/plain": [
       "   member_id  loan_amnt  int_rate    issue_d loan_status  fico_range_low  \\\n",
       "1   35914827      14000     11.67 2014-10-01     Current             670   \n",
       "2   35985086       8400      9.17 2014-10-01     Current             665   \n",
       "3   35945193      10000      7.69 2014-10-01     Current             730   \n",
       "4   35754571       2000     12.99 2014-10-01     Current             680   \n",
       "5   35925142       6000      9.17 2014-10-01     Current             725   \n",
       "\n",
       "   fico_range_high  annual_inc last_pymnt_d  fico_avg  \n",
       "1              674    135000.0   2015-10-01     672.0  \n",
       "2              669     75000.0   2015-10-01     667.0  \n",
       "3              734     94000.0   2015-10-01     732.0  \n",
       "4              684    150000.0   2015-10-01     682.0  \n",
       "5              729     60000.0   2015-10-01     727.0  "
      ]
     },
     "execution_count": 74,
     "metadata": {},
     "output_type": "execute_result"
    }
   ],
   "source": [
    "current_df = group_df.get_group('Current')\n",
    "current_df.head()"
   ]
  },
  {
   "cell_type": "code",
   "execution_count": 75,
   "metadata": {
    "collapsed": false,
    "deletable": true,
    "editable": true
   },
   "outputs": [
    {
     "name": "stderr",
     "output_type": "stream",
     "text": [
      "/opt/conda/lib/python2.7/site-packages/ipykernel_launcher.py:1: SettingWithCopyWarning: \n",
      "A value is trying to be set on a copy of a slice from a DataFrame.\n",
      "Try using .loc[row_indexer,col_indexer] = value instead\n",
      "\n",
      "See the caveats in the documentation: http://pandas.pydata.org/pandas-docs/stable/indexing.html#indexing-view-versus-copy\n",
      "  \"\"\"Entry point for launching an IPython kernel.\n"
     ]
    }
   ],
   "source": [
    "current_df['left_days'] = timedelta(365*3)- (current_df['last_pymnt_d']-current_df['issue_d']+timedelta(30))"
   ]
  },
  {
   "cell_type": "code",
   "execution_count": 76,
   "metadata": {
    "collapsed": false,
    "deletable": true,
    "editable": true
   },
   "outputs": [
    {
     "data": {
      "text/plain": [
       "2659.0162071274008"
      ]
     },
     "execution_count": 76,
     "metadata": {},
     "output_type": "execute_result"
    }
   ],
   "source": [
    "prob_sum = 0\n",
    "for days in current_df['left_days']:\n",
    "    days_int = (days / np.timedelta64(1, 'D')).astype(int)\n",
    "    prob_sum += 1-kmf.predict(days_int)\n",
    "prob_sum"
   ]
  },
  {
   "cell_type": "code",
   "execution_count": 77,
   "metadata": {
    "collapsed": false,
    "deletable": true,
    "editable": true
   },
   "outputs": [
    {
     "data": {
      "text/plain": [
       "0.012038338670165117"
      ]
     },
     "execution_count": 77,
     "metadata": {},
     "output_type": "execute_result"
    }
   ],
   "source": [
    "proportion_expectation = prob_sum/current_df.shape[0]\n",
    "proportion_expectation"
   ]
  },
  {
   "cell_type": "markdown",
   "metadata": {
    "deletable": true,
    "editable": true
   },
   "source": [
    "1.2% of the current loans will be charged off after October 2015. "
   ]
  },
  {
   "cell_type": "code",
   "execution_count": null,
   "metadata": {
    "collapsed": true
   },
   "outputs": [],
   "source": []
  }
 ],
 "metadata": {
  "kernelspec": {
   "display_name": "Python 2",
   "language": "python",
   "name": "python2"
  },
  "language_info": {
   "codemirror_mode": {
    "name": "ipython",
    "version": 2
   },
   "file_extension": ".py",
   "mimetype": "text/x-python",
   "name": "python",
   "nbconvert_exporter": "python",
   "pygments_lexer": "ipython2",
   "version": "2.7.13"
  }
 },
 "nbformat": 4,
 "nbformat_minor": 2
}
